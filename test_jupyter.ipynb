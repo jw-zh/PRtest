{
 "cells": [
  {
   "cell_type": "code",
   "execution_count": 1,
   "metadata": {},
   "outputs": [],
   "source": [
    "import sys"
   ]
  },
  {
   "cell_type": "code",
   "execution_count": 3,
   "metadata": {},
   "outputs": [
    {
     "data": {
      "text/plain": [
       "'3.7.3 (v3.7.3:ef4ec6ed12, Mar 25 2019, 21:26:53) [MSC v.1916 32 bit (Intel)]'"
      ]
     },
     "execution_count": 3,
     "metadata": {},
     "output_type": "execute_result"
    }
   ],
   "source": [
    "sys.version"
   ]
  },
  {
   "cell_type": "code",
   "execution_count": 2,
   "metadata": {},
   "outputs": [
    {
     "data": {
      "text/plain": [
       "sys.version_info(major=3, minor=7, micro=3, releaselevel='final', serial=0)"
      ]
     },
     "execution_count": 2,
     "metadata": {},
     "output_type": "execute_result"
    }
   ],
   "source": [
    "sys.version_info"
   ]
  },
  {
   "cell_type": "code",
   "execution_count": 79,
   "metadata": {},
   "outputs": [],
   "source": [
    "import django"
   ]
  },
  {
   "cell_type": "code",
   "execution_count": 80,
   "metadata": {},
   "outputs": [
    {
     "data": {
      "text/plain": [
       "'2.2.1'"
      ]
     },
     "execution_count": 80,
     "metadata": {},
     "output_type": "execute_result"
    }
   ],
   "source": [
    "django.get_version()"
   ]
  },
  {
   "cell_type": "code",
   "execution_count": null,
   "metadata": {},
   "outputs": [],
   "source": []
  },
  {
   "cell_type": "code",
   "execution_count": 72,
   "metadata": {},
   "outputs": [],
   "source": [
    "a = '\\u60a8\\u6b63\\u5728\\u5c1d\\u8bd5\\u5c06\\u5173\\u7cfb\\u6570\\u636e\\u5b58\\u50a8\\u66f4\\u6539\\u4e3a READWRITE \\u6a21\\u5f0f\\u3002\\n\\n\\u662f\\u5426\\u8981\\u7ee7\\u7eed'"
   ]
  },
  {
   "cell_type": "code",
   "execution_count": 73,
   "metadata": {},
   "outputs": [
    {
     "data": {
      "text/plain": [
       "'您正在尝试将关系数据存储更改为 READWRITE 模式。\\n\\n是否要继续'"
      ]
     },
     "execution_count": 73,
     "metadata": {},
     "output_type": "execute_result"
    }
   ],
   "source": [
    "a"
   ]
  },
  {
   "cell_type": "code",
   "execution_count": 70,
   "metadata": {},
   "outputs": [],
   "source": [
    "text_unicode = u'\\u6b63\\u5728\\u914d\\u7f6e\\u6570\\u636e\\u5b58\\u50a8\\u3002\\u521d\\u59cb\\u914d\\u7f6e\\u53ef\\u80fd\\u9700\\u8981\\u51e0\\u5206\\u949f\\u3002\\u914d\\u7f6e\\u5df2\\u5347\\u7ea7\\u7684\\u6570\\u636e\\u5b58\\u50a8\\u65f6\\uff0c\\u6b64\\u8fc7\\u7a0b\\u53ef\\u80fd\\u9700\\u8981\\u51e0\\u5c0f\\u65f6\\uff0c\\u5177\\u4f53\\u53d6\\u51b3\\u4e8e\\u6570\\u636e\\u5927\\u5c0f\\u3002\\u8bf7\\u7a0d\\u5019'"
   ]
  },
  {
   "cell_type": "code",
   "execution_count": 71,
   "metadata": {
    "scrolled": true
   },
   "outputs": [
    {
     "data": {
      "text/plain": [
       "'正在配置数据存储。初始配置可能需要几分钟。配置已升级的数据存储时，此过程可能需要几小时，具体取决于数据大小。请稍候'"
      ]
     },
     "execution_count": 71,
     "metadata": {},
     "output_type": "execute_result"
    }
   ],
   "source": [
    "#text_unicode = text.decode('unicode-escape')\n",
    "text_unicode"
   ]
  },
  {
   "cell_type": "code",
   "execution_count": 56,
   "metadata": {
    "scrolled": true
   },
   "outputs": [
    {
     "data": {
      "text/plain": [
       "b'\\xd5\\xfd\\xd4\\xda\\xc5\\xe4\\xd6\\xc3\\xca\\xfd\\xbe\\xdd\\xb4\\xe6\\xb4\\xa2\\xa1\\xa3\\xb3\\xf5\\xca\\xbc\\xc5\\xe4\\xd6\\xc3\\xbf\\xc9\\xc4\\xdc\\xd0\\xe8\\xd2\\xaa\\xbc\\xb8\\xb7\\xd6\\xd6\\xd3\\xa1\\xa3\\xc5\\xe4\\xd6\\xc3\\xd2\\xd1\\xc9\\xfd\\xbc\\xb6\\xb5\\xc4\\xca\\xfd\\xbe\\xdd\\xb4\\xe6\\xb4\\xa2\\xca\\xb1\\xa3\\xac\\xb4\\xcb\\xb9\\xfd\\xb3\\xcc\\xbf\\xc9\\xc4\\xdc\\xd0\\xe8\\xd2\\xaa\\xbc\\xb8\\xd0\\xa1\\xca\\xb1\\xa3\\xac\\xbe\\xdf\\xcc\\xe5\\xc8\\xa1\\xbe\\xf6\\xd3\\xda\\xca\\xfd\\xbe\\xdd\\xb4\\xf3\\xd0\\xa1\\xa1\\xa3\\xc7\\xeb\\xc9\\xd4\\xba\\xf2'"
      ]
     },
     "execution_count": 56,
     "metadata": {},
     "output_type": "execute_result"
    }
   ],
   "source": [
    "text_gbk = text_unicode.encode('gbk')\n",
    "text_gbk"
   ]
  },
  {
   "cell_type": "code",
   "execution_count": 47,
   "metadata": {},
   "outputs": [
    {
     "data": {
      "text/plain": [
       "'ÕýÔÚÅäÖÃÊý¾Ý´æ´¢¡£³õÊ¼ÅäÖÃ¿ÉÄÜÐèÒª¼¸·ÖÖÓ¡£ÅäÖÃÒÑÉý¼¶µÄÊý¾Ý´æ´¢Ê±£¬´Ë¹ý³Ì¿ÉÄÜÐèÒª¼¸Ð¡Ê±£¬¾ßÌåÈ¡¾öÓÚÊý¾Ý´óÐ¡¡£ÇëÉÔºò'"
      ]
     },
     "execution_count": 47,
     "metadata": {},
     "output_type": "execute_result"
    }
   ],
   "source": [
    "text_gbk"
   ]
  },
  {
   "cell_type": "code",
   "execution_count": 50,
   "metadata": {
    "scrolled": false
   },
   "outputs": [
    {
     "name": "stdout",
     "output_type": "stream",
     "text": [
      "ݴ洢ʼÿҪӡݴ洢ʱ˹̿ҪСʱȡݴСԺ\n"
     ]
    }
   ],
   "source": [
    "print(text_gbk.decode('utf-8', 'ignore'))"
   ]
  },
  {
   "cell_type": "code",
   "execution_count": 32,
   "metadata": {},
   "outputs": [
    {
     "name": "stdout",
     "output_type": "stream",
     "text": [
      "正在配置数据存储。初始配置可能需要几分钟。配置已升级的数据存储时，此过程可能需要几小时，具体取决于数据大小。请稍候\n"
     ]
    }
   ],
   "source": [
    "text_utf8 = text_unicode.encode('utf-8')\n",
    "print(text_utf8.decode('utf-8'))"
   ]
  },
  {
   "cell_type": "code",
   "execution_count": 57,
   "metadata": {},
   "outputs": [
    {
     "name": "stdout",
     "output_type": "stream",
     "text": [
      "b'\\xe6\\xad\\xa3\\xe5\\x9c\\xa8\\xe9\\x85\\x8d\\xe7\\xbd\\xae\\xe6\\x95\\xb0\\xe6\\x8d\\xae\\xe5\\xad\\x98\\xe5\\x82\\xa8\\xe3\\x80\\x82\\xe5\\x88\\x9d\\xe5\\xa7\\x8b\\xe9\\x85\\x8d\\xe7\\xbd\\xae\\xe5\\x8f\\xaf\\xe8\\x83\\xbd\\xe9\\x9c\\x80\\xe8\\xa6\\x81\\xe5\\x87\\xa0\\xe5\\x88\\x86\\xe9\\x92\\x9f\\xe3\\x80\\x82\\xe9\\x85\\x8d\\xe7\\xbd\\xae\\xe5\\xb7\\xb2\\xe5\\x8d\\x87\\xe7\\xba\\xa7\\xe7\\x9a\\x84\\xe6\\x95\\xb0\\xe6\\x8d\\xae\\xe5\\xad\\x98\\xe5\\x82\\xa8\\xe6\\x97\\xb6\\xef\\xbc\\x8c\\xe6\\xad\\xa4\\xe8\\xbf\\x87\\xe7\\xa8\\x8b\\xe5\\x8f\\xaf\\xe8\\x83\\xbd\\xe9\\x9c\\x80\\xe8\\xa6\\x81\\xe5\\x87\\xa0\\xe5\\xb0\\x8f\\xe6\\x97\\xb6\\xef\\xbc\\x8c\\xe5\\x85\\xb7\\xe4\\xbd\\x93\\xe5\\x8f\\x96\\xe5\\x86\\xb3\\xe4\\xba\\x8e\\xe6\\x95\\xb0\\xe6\\x8d\\xae\\xe5\\xa4\\xa7\\xe5\\xb0\\x8f\\xe3\\x80\\x82\\xe8\\xaf\\xb7\\xe7\\xa8\\x8d\\xe5\\x80\\x99'\n"
     ]
    }
   ],
   "source": [
    "text_utf8 = text_unicode.encode('utf-8')\n",
    "print(text_utf8)"
   ]
  },
  {
   "cell_type": "code",
   "execution_count": 53,
   "metadata": {},
   "outputs": [
    {
     "name": "stdout",
     "output_type": "stream",
     "text": [
      "b'\\xd5\\xfd\\xd4\\xda\\xc5\\xe4\\xd6\\xc3\\xca\\xfd\\xbe\\xdd\\xb4\\xe6\\xb4\\xa2\\xa1\\xa3\\xb3\\xf5\\xca\\xbc\\xc5\\xe4\\xd6\\xc3\\xbf\\xc9\\xc4\\xdc\\xd0\\xe8\\xd2\\xaa\\xbc\\xb8\\xb7\\xd6\\xd6\\xd3\\xa1\\xa3\\xc5\\xe4\\xd6\\xc3\\xd2\\xd1\\xc9\\xfd\\xbc\\xb6\\xb5\\xc4\\xca\\xfd\\xbe\\xdd\\xb4\\xe6\\xb4\\xa2\\xca\\xb1\\xa3\\xac\\xb4\\xcb\\xb9\\xfd\\xb3\\xcc\\xbf\\xc9\\xc4\\xdc\\xd0\\xe8\\xd2\\xaa\\xbc\\xb8\\xd0\\xa1\\xca\\xb1\\xa3\\xac\\xbe\\xdf\\xcc\\xe5\\xc8\\xa1\\xbe\\xf6\\xd3\\xda\\xca\\xfd\\xbe\\xdd\\xb4\\xf3\\xd0\\xa1\\xa1\\xa3\\xc7\\xeb\\xc9\\xd4\\xba\\xf2'\n"
     ]
    }
   ],
   "source": [
    "with open('test.txt', 'rb') as file:\n",
    "    text2 = file.read()\n",
    "    print(text2)"
   ]
  },
  {
   "cell_type": "code",
   "execution_count": 74,
   "metadata": {},
   "outputs": [],
   "source": [
    "bstr = b'\\xd5\\xfd\\xd4\\xda\\xc5\\xe4\\xd6\\xc3\\xca\\xfd\\xbe\\xdd\\xb4\\xe6\\xb4\\xa2\\xa1\\xa3\\xb3\\xf5\\xca\\xbc\\xc5\\xe4\\xd6\\xc3\\xbf\\xc9\\xc4\\xdc\\xd0\\xe8\\xd2\\xaa\\xbc\\xb8\\xb7\\xd6\\xd6\\xd3\\xa1\\xa3\\xc5\\xe4\\xd6\\xc3\\xd2\\xd1\\xc9\\xfd\\xbc\\xb6\\xb5\\xc4\\xca\\xfd\\xbe\\xdd\\xb4\\xe6\\xb4\\xa2\\xca\\xb1\\xa3\\xac\\xb4\\xcb\\xb9\\xfd\\xb3\\xcc\\xbf\\xc9\\xc4\\xdc\\xd0\\xe8\\xd2\\xaa\\xbc\\xb8\\xd0\\xa1\\xca\\xb1\\xa3\\xac\\xbe\\xdf\\xcc\\xe5\\xc8\\xa1\\xbe\\xf6\\xd3\\xda\\xca\\xfd\\xbe\\xdd\\xb4\\xf3\\xd0\\xa1\\xa1\\xa3\\xc7\\xeb\\xc9\\xd4\\xba\\xf2'"
   ]
  },
  {
   "cell_type": "code",
   "execution_count": 77,
   "metadata": {},
   "outputs": [
    {
     "data": {
      "text/plain": [
       "b'\\\\u6b63\\\\u5728\\\\u914d\\\\u7f6e\\\\u6570\\\\u636e\\\\u5b58\\\\u50a8\\\\u3002\\\\u521d\\\\u59cb\\\\u914d\\\\u7f6e\\\\u53ef\\\\u80fd\\\\u9700\\\\u8981\\\\u51e0\\\\u5206\\\\u949f\\\\u3002\\\\u914d\\\\u7f6e\\\\u5df2\\\\u5347\\\\u7ea7\\\\u7684\\\\u6570\\\\u636e\\\\u5b58\\\\u50a8\\\\u65f6\\\\uff0c\\\\u6b64\\\\u8fc7\\\\u7a0b\\\\u53ef\\\\u80fd\\\\u9700\\\\u8981\\\\u51e0\\\\u5c0f\\\\u65f6\\\\uff0c\\\\u5177\\\\u4f53\\\\u53d6\\\\u51b3\\\\u4e8e\\\\u6570\\\\u636e\\\\u5927\\\\u5c0f\\\\u3002\\\\u8bf7\\\\u7a0d\\\\u5019'"
      ]
     },
     "execution_count": 77,
     "metadata": {},
     "output_type": "execute_result"
    }
   ],
   "source": [
    "bstr.decode('gbk').encode('unicode-escape')"
   ]
  },
  {
   "cell_type": "code",
   "execution_count": 78,
   "metadata": {},
   "outputs": [
    {
     "data": {
      "text/plain": [
       "b'\\xe6\\xad\\xa3\\xe5\\x9c\\xa8\\xe9\\x85\\x8d\\xe7\\xbd\\xae\\xe6\\x95\\xb0\\xe6\\x8d\\xae\\xe5\\xad\\x98\\xe5\\x82\\xa8\\xe3\\x80\\x82\\xe5\\x88\\x9d\\xe5\\xa7\\x8b\\xe9\\x85\\x8d\\xe7\\xbd\\xae\\xe5\\x8f\\xaf\\xe8\\x83\\xbd\\xe9\\x9c\\x80\\xe8\\xa6\\x81\\xe5\\x87\\xa0\\xe5\\x88\\x86\\xe9\\x92\\x9f\\xe3\\x80\\x82\\xe9\\x85\\x8d\\xe7\\xbd\\xae\\xe5\\xb7\\xb2\\xe5\\x8d\\x87\\xe7\\xba\\xa7\\xe7\\x9a\\x84\\xe6\\x95\\xb0\\xe6\\x8d\\xae\\xe5\\xad\\x98\\xe5\\x82\\xa8\\xe6\\x97\\xb6\\xef\\xbc\\x8c\\xe6\\xad\\xa4\\xe8\\xbf\\x87\\xe7\\xa8\\x8b\\xe5\\x8f\\xaf\\xe8\\x83\\xbd\\xe9\\x9c\\x80\\xe8\\xa6\\x81\\xe5\\x87\\xa0\\xe5\\xb0\\x8f\\xe6\\x97\\xb6\\xef\\xbc\\x8c\\xe5\\x85\\xb7\\xe4\\xbd\\x93\\xe5\\x8f\\x96\\xe5\\x86\\xb3\\xe4\\xba\\x8e\\xe6\\x95\\xb0\\xe6\\x8d\\xae\\xe5\\xa4\\xa7\\xe5\\xb0\\x8f\\xe3\\x80\\x82\\xe8\\xaf\\xb7\\xe7\\xa8\\x8d\\xe5\\x80\\x99'"
      ]
     },
     "execution_count": 78,
     "metadata": {},
     "output_type": "execute_result"
    }
   ],
   "source": [
    "bstr.decode('gbk').encode('utf-8')"
   ]
  },
  {
   "cell_type": "code",
   "execution_count": null,
   "metadata": {},
   "outputs": [],
   "source": []
  }
 ],
 "metadata": {
  "kernelspec": {
   "display_name": "Python 3",
   "language": "python",
   "name": "python3"
  },
  "language_info": {
   "codemirror_mode": {
    "name": "ipython",
    "version": 3
   },
   "file_extension": ".py",
   "mimetype": "text/x-python",
   "name": "python",
   "nbconvert_exporter": "python",
   "pygments_lexer": "ipython3",
   "version": "3.7.3"
  }
 },
 "nbformat": 4,
 "nbformat_minor": 2
}
