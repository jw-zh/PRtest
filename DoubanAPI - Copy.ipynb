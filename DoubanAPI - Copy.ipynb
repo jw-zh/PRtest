{
 "cells": [
  {
   "cell_type": "code",
   "execution_count": 1,
   "metadata": {},
   "outputs": [],
   "source": [
    "import urllib\n",
    "import urllib.request\n",
    "import json"
   ]
  },
  {
   "cell_type": "code",
   "execution_count": 14,
   "metadata": {},
   "outputs": [],
   "source": [
    "url = 'https://api.douban.com/v2/movie/in_theaters?apikey=0b2bdeda43b5688921839c8ecb20399b&city=%E5%8C%97%E4%BA%AC&start=0&count=100&client=&udid='\n",
    "request = urllib.request.Request(url)\n",
    "response = urllib.request.urlopen(request).read().decode('utf-8')"
   ]
  },
  {
   "cell_type": "code",
   "execution_count": 15,
   "metadata": {
    "scrolled": true
   },
   "outputs": [],
   "source": [
    "content = json.loads(response)"
   ]
  },
  {
   "cell_type": "code",
   "execution_count": 16,
   "metadata": {
    "scrolled": false
   },
   "outputs": [],
   "source": [
    "movies = content['subjects']"
   ]
  },
  {
   "cell_type": "code",
   "execution_count": null,
   "metadata": {
    "scrolled": true
   },
   "outputs": [],
   "source": [
    "movies[1]"
   ]
  },
  {
   "cell_type": "code",
   "execution_count": 18,
   "metadata": {},
   "outputs": [
    {
     "data": {
      "text/plain": [
       "dict_keys(['rating', 'genres', 'title', 'casts', 'durations', 'collect_count', 'mainland_pubdate', 'has_video', 'original_title', 'subtype', 'directors', 'pubdates', 'year', 'images', 'alt', 'id'])"
      ]
     },
     "execution_count": 18,
     "metadata": {},
     "output_type": "execute_result"
    }
   ],
   "source": [
    "movies[0].keys()"
   ]
  },
  {
   "cell_type": "code",
   "execution_count": 19,
   "metadata": {
    "scrolled": true
   },
   "outputs": [
    {
     "name": "stdout",
     "output_type": "stream",
     "text": [
      "Pokémon Detective Pikachu\n",
      "A Dog's Journey\n",
      "Avengers: Endgame\n",
      "كفرناحوم\n",
      "双生\n",
      "Heidi\n",
      "Mom\n",
      "周恩来回延安\n",
      "ペンギン・ハイウェイ\n",
      "进京城\n",
      "音乐家\n",
      "柔情史\n",
      "Roma\n",
      "真爱不迟到\n",
      "过昭关\n",
      "Andhadhun\n",
      "港珠澳大桥\n",
      "Последний богатырь\n",
      "致命梦魇\n",
      "Bohemian Rhapsody\n",
      "雪暴\n",
      "下一任：前任\n",
      "Au revoir là-haut\n",
      "搞怪奇妙夜\n",
      "P風暴\n",
      "La ch'tite famille\n",
      "你好现任\n",
      "老师·好\n",
      "陵水谣\n",
      "武陵山上的星光\n",
      "空天战队之星兽大战\n",
      "午夜怪谈\n",
      "となりの怪物くん\n",
      "撞死了一只羊\n",
      "悟空奇遇记\n",
      "捉妖学院\n",
      "Wonder Park\n",
      "一路疯癫\n"
     ]
    }
   ],
   "source": [
    "for item in movies:\n",
    "    print(item['original_title'])"
   ]
  },
  {
   "cell_type": "code",
   "execution_count": 8,
   "metadata": {
    "scrolled": true
   },
   "outputs": [
    {
     "name": "stdout",
     "output_type": "stream",
     "text": [
      "大侦探皮卡丘 Pokémon Detective Pikachu 6.7 ['喜剧', '动画', '奇幻'] ['2019-05-10(美国)', '2019-05-10(中国大陆)']\n",
      "一条狗的使命2 A Dog's Journey 6.9 ['剧情', '喜剧', '家庭'] ['2019-05-17(美国)', '2019-05-17(中国大陆)']\n",
      "复仇者联盟4：终局之战 Avengers: Endgame 8.6 ['动作', '科幻', '奇幻'] ['2019-04-24(中国大陆)', '2019-04-26(美国)']\n",
      "何以为家 كفرناحوم 9.0 ['剧情'] ['2018-05-17(戛纳电影节)', '2018-09-20(黎巴嫩)', '2019-04-29(中国大陆)']\n",
      "双生 双生 3.6 ['爱情', '悬疑'] ['2019-05-18(中国大陆)']\n",
      "海蒂和爷爷 Heidi 9.1 ['剧情', '冒险', '家庭'] ['2015-12-10(德国)', '2019-05-16(中国大陆)']\n",
      "一个母亲的复仇 Mom 6.7 ['剧情', '犯罪'] ['2017-07-07(印度)', '2019-05-10(中国大陆)']\n",
      "周恩来回延安 周恩来回延安 0 ['剧情', '历史'] ['2019-05-15(中国大陆)']\n",
      "企鹅公路 ペンギン・ハイウェイ 7.8 ['动画', '奇幻', '冒险'] ['2018-08-17(日本)', '2019-05-17(中国大陆)']\n",
      "进京城 进京城 6.6 ['剧情', '历史', '古装'] ['2018-06-17(上海电影节)', '2019-05-10(中国大陆)']\n",
      "音乐家 音乐家 6.6 ['剧情', '历史'] ['2019-04-13(北京国际电影节)', '2019-05-17(中国大陆)']\n",
      "真爱不迟到 真爱不迟到 0 ['剧情', '爱情'] ['2019-05-20(中国大陆)']\n",
      "柔情史 柔情史 6.7 ['剧情', '家庭'] ['2018-02-16(柏林电影节)', '2019-05-17(中国大陆)']\n",
      "罗马 Roma 8.2 ['剧情', '家庭'] ['2018-08-30(威尼斯电影节)', '2018-12-14(美国)', '2019-05-10(中国大陆)']\n",
      "过昭关 过昭关 7.4 ['剧情', '儿童', '家庭'] ['2018-10-17(平遥国际电影展)', '2019-05-20(中国大陆)']\n",
      "调音师 Andhadhun 8.3 ['喜剧', '犯罪', '悬疑'] ['2018-10-05(印度)', '2019-04-03(中国大陆)']\n",
      "最后的勇士 Последний богатырь 5.4 ['喜剧', '动作', '奇幻'] ['2017-10-19(俄罗斯)', '2019-05-17(中国大陆)']\n",
      "致命梦魇 致命梦魇 0 ['犯罪', '悬疑', '惊悚'] ['2019-05-17(中国大陆)']\n",
      "港珠澳大桥 港珠澳大桥 0 ['纪录片'] ['2019-05-01(中国大陆)']\n",
      "雪暴 雪暴 6.3 ['动作', '犯罪', '悬疑'] ['2018-10-05(釜山电影节)', '2019-04-30(中国大陆)']\n",
      "你好现任 你好现任 0 ['爱情'] ['2019-05-18(中国大陆)']\n",
      "波西米亚狂想曲 Bohemian Rhapsody 8.7 ['剧情', '传记', '音乐'] ['2018-11-02(美国)', '2019-03-22(中国大陆)']\n",
      "下一任：前任 下一任：前任 2.6 ['爱情'] ['2019-05-01(中国大陆)']\n",
      "天上再见 Au revoir là-haut 8.1 ['喜剧', '战争', '犯罪'] ['2017-10-25(法国)', '2019-04-30(中国大陆)']\n",
      "搞怪奇妙夜 搞怪奇妙夜 0 ['剧情', '喜剧'] ['2019-05-17(中国大陆)']\n",
      "地久天长 地久天长 8.0 ['剧情', '家庭'] ['2019-02-14(柏林电影节)', '2019-03-22(中国大陆)']\n",
      "欢迎来北方II La ch'tite famille 7.1 ['剧情', '喜剧'] ['2018-02-28(法国)', '2019-05-10(中国大陆)']\n",
      "反贪风暴4 P風暴 6.3 ['动作', '犯罪'] ['2019-04-04(中国大陆)']\n",
      "陵水谣 陵水谣 0 [] ['2019-05-19(中国大陆)']\n",
      "空天战队之星兽大战 空天战队之星兽大战 0 ['动画', '冒险'] ['2019-05-18(中国大陆)']\n",
      "午夜怪谈 午夜怪谈 0 ['悬疑', '惊悚', '恐怖'] ['2019-05-07(中国大陆)']\n",
      "老师·好 老师·好 6.7 ['剧情'] ['2019-03-22(中国大陆)']\n",
      "邻座的怪同学 となりの怪物くん 6.1 ['剧情', '喜剧', '爱情'] ['2018-04-27(日本)', '2019-05-23(中国大陆)']\n",
      "捉妖学院 捉妖学院 0 ['奇幻', '冒险'] ['2019-04-30(中国大陆)']\n",
      "武陵山上的星光 武陵山上的星光 0 ['剧情'] ['2019-05-18(中国大陆)']\n",
      "悟空奇遇记 悟空奇遇记 0 ['喜剧', '动画'] ['2019-05-01(中国大陆)']\n",
      "一路疯癫 一路疯癫 0 ['喜剧'] ['2019-05-10(中国大陆)']\n",
      "真爱百分百 Tout le monde debout 7.4 ['喜剧', '爱情'] ['2018-03-14(法国)', '2019-05-23(中国大陆)']\n",
      "神奇乐园历险记 Wonder Park 6.4 ['喜剧', '动画', '奇幻'] ['2019-03-15(美国)', '2019-04-19(中国大陆)']\n",
      "龙珠超：布罗利 ドラゴンボール超 ブロリー 7.5 ['动画'] ['2018-12-14(日本)', '2019-05-24(中国大陆)']\n",
      "撞死了一只羊 撞死了一只羊 7.4 ['剧情'] ['2018-09-04(威尼斯电影节)', '2019-04-26(中国大陆)']\n"
     ]
    }
   ],
   "source": [
    "url = 'https://api.douban.com/v2/movie/in_theaters?apikey=0b2bdeda43b5688921839c8ecb20399b&city=%E5%8C%97%E4%BA%AC&start=0&count=100&client=&udid='\n",
    "request = urllib.request.Request(url)\n",
    "response = urllib.request.urlopen(request).read().decode('utf-8')\n",
    "content = json.loads(response)\n",
    "movies = content['subjects']\n",
    "for item in movies:\n",
    "    print(item['title'], item['original_title'], item['rating']['average'], item['genres'], item['pubdates'])"
   ]
  },
  {
   "cell_type": "code",
   "execution_count": 9,
   "metadata": {},
   "outputs": [],
   "source": [
    "movie_data = []\n",
    "for item in movies:\n",
    "    data = {}\n",
    "    data['title'] = item['title']\n",
    "    data['original_title'] = item['original_title']\n",
    "    data['rating'] = item['rating']['average']\n",
    "    data['genres'] = item['genres']\n",
    "    data['pubdates'] = item['pubdates']\n",
    "    movie_data.append(data)"
   ]
  },
  {
   "cell_type": "code",
   "execution_count": 10,
   "metadata": {
    "scrolled": true
   },
   "outputs": [
    {
     "data": {
      "text/plain": [
       "[{'title': '大侦探皮卡丘',\n",
       "  'original_title': 'Pokémon Detective Pikachu',\n",
       "  'rating': 6.7,\n",
       "  'genres': ['喜剧', '动画', '奇幻'],\n",
       "  'pubdates': ['2019-05-10(美国)', '2019-05-10(中国大陆)']},\n",
       " {'title': '一条狗的使命2',\n",
       "  'original_title': \"A Dog's Journey\",\n",
       "  'rating': 6.9,\n",
       "  'genres': ['剧情', '喜剧', '家庭'],\n",
       "  'pubdates': ['2019-05-17(美国)', '2019-05-17(中国大陆)']},\n",
       " {'title': '复仇者联盟4：终局之战',\n",
       "  'original_title': 'Avengers: Endgame',\n",
       "  'rating': 8.6,\n",
       "  'genres': ['动作', '科幻', '奇幻'],\n",
       "  'pubdates': ['2019-04-24(中国大陆)', '2019-04-26(美国)']},\n",
       " {'title': '何以为家',\n",
       "  'original_title': 'كفرناحوم',\n",
       "  'rating': 9.0,\n",
       "  'genres': ['剧情'],\n",
       "  'pubdates': ['2018-05-17(戛纳电影节)', '2018-09-20(黎巴嫩)', '2019-04-29(中国大陆)']},\n",
       " {'title': '双生',\n",
       "  'original_title': '双生',\n",
       "  'rating': 3.6,\n",
       "  'genres': ['爱情', '悬疑'],\n",
       "  'pubdates': ['2019-05-18(中国大陆)']},\n",
       " {'title': '海蒂和爷爷',\n",
       "  'original_title': 'Heidi',\n",
       "  'rating': 9.1,\n",
       "  'genres': ['剧情', '冒险', '家庭'],\n",
       "  'pubdates': ['2015-12-10(德国)', '2019-05-16(中国大陆)']},\n",
       " {'title': '一个母亲的复仇',\n",
       "  'original_title': 'Mom',\n",
       "  'rating': 6.7,\n",
       "  'genres': ['剧情', '犯罪'],\n",
       "  'pubdates': ['2017-07-07(印度)', '2019-05-10(中国大陆)']},\n",
       " {'title': '周恩来回延安',\n",
       "  'original_title': '周恩来回延安',\n",
       "  'rating': 0,\n",
       "  'genres': ['剧情', '历史'],\n",
       "  'pubdates': ['2019-05-15(中国大陆)']},\n",
       " {'title': '企鹅公路',\n",
       "  'original_title': 'ペンギン・ハイウェイ',\n",
       "  'rating': 7.8,\n",
       "  'genres': ['动画', '奇幻', '冒险'],\n",
       "  'pubdates': ['2018-08-17(日本)', '2019-05-17(中国大陆)']},\n",
       " {'title': '进京城',\n",
       "  'original_title': '进京城',\n",
       "  'rating': 6.6,\n",
       "  'genres': ['剧情', '历史', '古装'],\n",
       "  'pubdates': ['2018-06-17(上海电影节)', '2019-05-10(中国大陆)']},\n",
       " {'title': '音乐家',\n",
       "  'original_title': '音乐家',\n",
       "  'rating': 6.6,\n",
       "  'genres': ['剧情', '历史'],\n",
       "  'pubdates': ['2019-04-13(北京国际电影节)', '2019-05-17(中国大陆)']},\n",
       " {'title': '真爱不迟到',\n",
       "  'original_title': '真爱不迟到',\n",
       "  'rating': 0,\n",
       "  'genres': ['剧情', '爱情'],\n",
       "  'pubdates': ['2019-05-20(中国大陆)']},\n",
       " {'title': '柔情史',\n",
       "  'original_title': '柔情史',\n",
       "  'rating': 6.7,\n",
       "  'genres': ['剧情', '家庭'],\n",
       "  'pubdates': ['2018-02-16(柏林电影节)', '2019-05-17(中国大陆)']},\n",
       " {'title': '罗马',\n",
       "  'original_title': 'Roma',\n",
       "  'rating': 8.2,\n",
       "  'genres': ['剧情', '家庭'],\n",
       "  'pubdates': ['2018-08-30(威尼斯电影节)', '2018-12-14(美国)', '2019-05-10(中国大陆)']},\n",
       " {'title': '过昭关',\n",
       "  'original_title': '过昭关',\n",
       "  'rating': 7.4,\n",
       "  'genres': ['剧情', '儿童', '家庭'],\n",
       "  'pubdates': ['2018-10-17(平遥国际电影展)', '2019-05-20(中国大陆)']},\n",
       " {'title': '调音师',\n",
       "  'original_title': 'Andhadhun',\n",
       "  'rating': 8.3,\n",
       "  'genres': ['喜剧', '犯罪', '悬疑'],\n",
       "  'pubdates': ['2018-10-05(印度)', '2019-04-03(中国大陆)']},\n",
       " {'title': '最后的勇士',\n",
       "  'original_title': 'Последний богатырь',\n",
       "  'rating': 5.4,\n",
       "  'genres': ['喜剧', '动作', '奇幻'],\n",
       "  'pubdates': ['2017-10-19(俄罗斯)', '2019-05-17(中国大陆)']},\n",
       " {'title': '致命梦魇',\n",
       "  'original_title': '致命梦魇',\n",
       "  'rating': 0,\n",
       "  'genres': ['犯罪', '悬疑', '惊悚'],\n",
       "  'pubdates': ['2019-05-17(中国大陆)']},\n",
       " {'title': '港珠澳大桥',\n",
       "  'original_title': '港珠澳大桥',\n",
       "  'rating': 0,\n",
       "  'genres': ['纪录片'],\n",
       "  'pubdates': ['2019-05-01(中国大陆)']},\n",
       " {'title': '雪暴',\n",
       "  'original_title': '雪暴',\n",
       "  'rating': 6.3,\n",
       "  'genres': ['动作', '犯罪', '悬疑'],\n",
       "  'pubdates': ['2018-10-05(釜山电影节)', '2019-04-30(中国大陆)']},\n",
       " {'title': '你好现任',\n",
       "  'original_title': '你好现任',\n",
       "  'rating': 0,\n",
       "  'genres': ['爱情'],\n",
       "  'pubdates': ['2019-05-18(中国大陆)']},\n",
       " {'title': '波西米亚狂想曲',\n",
       "  'original_title': 'Bohemian Rhapsody',\n",
       "  'rating': 8.7,\n",
       "  'genres': ['剧情', '传记', '音乐'],\n",
       "  'pubdates': ['2018-11-02(美国)', '2019-03-22(中国大陆)']},\n",
       " {'title': '下一任：前任',\n",
       "  'original_title': '下一任：前任',\n",
       "  'rating': 2.6,\n",
       "  'genres': ['爱情'],\n",
       "  'pubdates': ['2019-05-01(中国大陆)']},\n",
       " {'title': '天上再见',\n",
       "  'original_title': 'Au revoir là-haut',\n",
       "  'rating': 8.1,\n",
       "  'genres': ['喜剧', '战争', '犯罪'],\n",
       "  'pubdates': ['2017-10-25(法国)', '2019-04-30(中国大陆)']},\n",
       " {'title': '搞怪奇妙夜',\n",
       "  'original_title': '搞怪奇妙夜',\n",
       "  'rating': 0,\n",
       "  'genres': ['剧情', '喜剧'],\n",
       "  'pubdates': ['2019-05-17(中国大陆)']},\n",
       " {'title': '地久天长',\n",
       "  'original_title': '地久天长',\n",
       "  'rating': 8.0,\n",
       "  'genres': ['剧情', '家庭'],\n",
       "  'pubdates': ['2019-02-14(柏林电影节)', '2019-03-22(中国大陆)']},\n",
       " {'title': '欢迎来北方II',\n",
       "  'original_title': \"La ch'tite famille\",\n",
       "  'rating': 7.1,\n",
       "  'genres': ['剧情', '喜剧'],\n",
       "  'pubdates': ['2018-02-28(法国)', '2019-05-10(中国大陆)']},\n",
       " {'title': '反贪风暴4',\n",
       "  'original_title': 'P風暴',\n",
       "  'rating': 6.3,\n",
       "  'genres': ['动作', '犯罪'],\n",
       "  'pubdates': ['2019-04-04(中国大陆)']},\n",
       " {'title': '陵水谣',\n",
       "  'original_title': '陵水谣',\n",
       "  'rating': 0,\n",
       "  'genres': [],\n",
       "  'pubdates': ['2019-05-19(中国大陆)']},\n",
       " {'title': '空天战队之星兽大战',\n",
       "  'original_title': '空天战队之星兽大战',\n",
       "  'rating': 0,\n",
       "  'genres': ['动画', '冒险'],\n",
       "  'pubdates': ['2019-05-18(中国大陆)']},\n",
       " {'title': '午夜怪谈',\n",
       "  'original_title': '午夜怪谈',\n",
       "  'rating': 0,\n",
       "  'genres': ['悬疑', '惊悚', '恐怖'],\n",
       "  'pubdates': ['2019-05-07(中国大陆)']},\n",
       " {'title': '老师·好',\n",
       "  'original_title': '老师·好',\n",
       "  'rating': 6.7,\n",
       "  'genres': ['剧情'],\n",
       "  'pubdates': ['2019-03-22(中国大陆)']},\n",
       " {'title': '邻座的怪同学',\n",
       "  'original_title': 'となりの怪物くん',\n",
       "  'rating': 6.1,\n",
       "  'genres': ['剧情', '喜剧', '爱情'],\n",
       "  'pubdates': ['2018-04-27(日本)', '2019-05-23(中国大陆)']},\n",
       " {'title': '捉妖学院',\n",
       "  'original_title': '捉妖学院',\n",
       "  'rating': 0,\n",
       "  'genres': ['奇幻', '冒险'],\n",
       "  'pubdates': ['2019-04-30(中国大陆)']},\n",
       " {'title': '武陵山上的星光',\n",
       "  'original_title': '武陵山上的星光',\n",
       "  'rating': 0,\n",
       "  'genres': ['剧情'],\n",
       "  'pubdates': ['2019-05-18(中国大陆)']},\n",
       " {'title': '悟空奇遇记',\n",
       "  'original_title': '悟空奇遇记',\n",
       "  'rating': 0,\n",
       "  'genres': ['喜剧', '动画'],\n",
       "  'pubdates': ['2019-05-01(中国大陆)']},\n",
       " {'title': '一路疯癫',\n",
       "  'original_title': '一路疯癫',\n",
       "  'rating': 0,\n",
       "  'genres': ['喜剧'],\n",
       "  'pubdates': ['2019-05-10(中国大陆)']},\n",
       " {'title': '真爱百分百',\n",
       "  'original_title': 'Tout le monde debout',\n",
       "  'rating': 7.4,\n",
       "  'genres': ['喜剧', '爱情'],\n",
       "  'pubdates': ['2018-03-14(法国)', '2019-05-23(中国大陆)']},\n",
       " {'title': '神奇乐园历险记',\n",
       "  'original_title': 'Wonder Park',\n",
       "  'rating': 6.4,\n",
       "  'genres': ['喜剧', '动画', '奇幻'],\n",
       "  'pubdates': ['2019-03-15(美国)', '2019-04-19(中国大陆)']},\n",
       " {'title': '龙珠超：布罗利',\n",
       "  'original_title': 'ドラゴンボール超 ブロリー',\n",
       "  'rating': 7.5,\n",
       "  'genres': ['动画'],\n",
       "  'pubdates': ['2018-12-14(日本)', '2019-05-24(中国大陆)']},\n",
       " {'title': '撞死了一只羊',\n",
       "  'original_title': '撞死了一只羊',\n",
       "  'rating': 7.4,\n",
       "  'genres': ['剧情'],\n",
       "  'pubdates': ['2018-09-04(威尼斯电影节)', '2019-04-26(中国大陆)']}]"
      ]
     },
     "execution_count": 10,
     "metadata": {},
     "output_type": "execute_result"
    }
   ],
   "source": [
    "movie_data"
   ]
  },
  {
   "cell_type": "code",
   "execution_count": null,
   "metadata": {
    "scrolled": true
   },
   "outputs": [],
   "source": [
    "url = 'https://api.douban.com/v2/movie/weekly?apikey=0b2bdeda43b5688921839c8ecb20399b&city=%E5%8C%97%E4%BA%AC&start=0&count=100&client=&udid='\n",
    "request = urllib.request.Request(url)\n",
    "response = urllib.request.urlopen(request).read().decode('utf-8')\n",
    "content = json.loads(response)\n",
    "movies = content['subjects']\n",
    "for item in movies:\n",
    "    print(item['subject'])"
   ]
  },
  {
   "cell_type": "code",
   "execution_count": 12,
   "metadata": {
    "scrolled": false
   },
   "outputs": [
    {
     "name": "stdout",
     "output_type": "stream",
     "text": [
      "疾速备战\n",
      "复仇者联盟4：终局之战\n",
      "大侦探皮卡丘\n",
      "一条狗的使命2\n",
      "偷心女盗\n",
      "侵入者\n",
      "全民追女王\n",
      "太阳也是星星\n",
      "老太啦啦队\n",
      "丑娃娃\n",
      "不可能的事\n"
     ]
    }
   ],
   "source": [
    "url = 'https://api.douban.com/v2/movie/us_box?apikey=0b2bdeda43b5688921839c8ecb20399b&start=0&count=100&client=&udid='\n",
    "request = urllib.request.Request(url)\n",
    "response = urllib.request.urlopen(request).read().decode('utf-8')\n",
    "content = json.loads(response)\n",
    "movies = content['subjects']\n",
    "for item in movies:\n",
    "    print(item['subject']['title'])"
   ]
  },
  {
   "cell_type": "code",
   "execution_count": null,
   "metadata": {
    "scrolled": false
   },
   "outputs": [],
   "source": [
    "url = 'https://api.douban.com/v2/movie/new_movies?apikey=0b2bdeda43b5688921839c8ecb20399b&start=0&count=100&client=&udid='\n",
    "request = urllib.request.Request(url)\n",
    "response = urllib.request.urlopen(request).read().decode('utf-8')\n",
    "content = json.loads(response)\n",
    "movies = content['subjects']\n",
    "for item in movies:\n",
    "    print(item)"
   ]
  },
  {
   "cell_type": "code",
   "execution_count": null,
   "metadata": {},
   "outputs": [],
   "source": []
  }
 ],
 "metadata": {
  "kernelspec": {
   "display_name": "Python 3",
   "language": "python",
   "name": "python3"
  },
  "language_info": {
   "codemirror_mode": {
    "name": "ipython",
    "version": 3
   },
   "file_extension": ".py",
   "mimetype": "text/x-python",
   "name": "python",
   "nbconvert_exporter": "python",
   "pygments_lexer": "ipython3",
   "version": "3.7.3"
  }
 },
 "nbformat": 4,
 "nbformat_minor": 2
}
