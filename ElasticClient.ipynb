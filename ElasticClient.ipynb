{
 "cells": [
  {
   "cell_type": "code",
   "execution_count": 1,
   "metadata": {},
   "outputs": [],
   "source": [
    "from elasticsearch import Elasticsearch\n",
    "import urllib\n",
    "import urllib.request\n",
    "import json"
   ]
  },
  {
   "cell_type": "markdown",
   "metadata": {},
   "source": [
    "#### Connections"
   ]
  },
  {
   "cell_type": "code",
   "execution_count": 2,
   "metadata": {},
   "outputs": [],
   "source": [
    "username = 'els_g1ocfhb'\n",
    "password = 'hqxn5zui4uf7po4r'\n",
    "host = 'localhost'\n",
    "port = 9220"
   ]
  },
  {
   "cell_type": "code",
   "execution_count": 3,
   "metadata": {},
   "outputs": [],
   "source": [
    "es = Elasticsearch(\n",
    "    ['http://{}:{}@{}:{}'.format(username, password, host, port)],\n",
    ")"
   ]
  },
  {
   "cell_type": "markdown",
   "metadata": {},
   "source": [
    "#### Basic info"
   ]
  },
  {
   "cell_type": "code",
   "execution_count": 4,
   "metadata": {
    "scrolled": true
   },
   "outputs": [
    {
     "name": "stdout",
     "output_type": "stream",
     "text": [
      "epoch      timestamp cluster      status node.total node.data shards pri relo init unassign pending_tasks max_task_wait_time active_shards_percent\n",
      "1553724535 15:08:55  bds_ewlgx6ti yellow          1         1     11  11    0    0        1             0                  -                 91.7%\n",
      "\n"
     ]
    }
   ],
   "source": [
    "health_status = es.cat.health(v=True)\n",
    "print(health_status)"
   ]
  },
  {
   "cell_type": "code",
   "execution_count": 5,
   "metadata": {
    "scrolled": false
   },
   "outputs": [
    {
     "name": "stdout",
     "output_type": "stream",
     "text": [
      "id                     host        ip          node\n",
      "PLAhZNNeTtONKb0ruoEMYg 10.44.11.99 10.44.11.99 DEV0003841.ESRI.COM\n",
      "\n"
     ]
    }
   ],
   "source": [
    "master_node = es.cat.master(v=True)\n",
    "print(master_node)"
   ]
  },
  {
   "cell_type": "code",
   "execution_count": 6,
   "metadata": {
    "scrolled": true
   },
   "outputs": [
    {
     "name": "stdout",
     "output_type": "stream",
     "text": [
      "ip          heap.percent ram.percent cpu load_1m load_5m load_15m node.role master name\n",
      "10.44.11.99            7          40   7                          mdi       *      DEV0003841.ESRI.COM\n",
      "\n"
     ]
    }
   ],
   "source": [
    "nodes_status = es.cat.nodes(v=True)\n",
    "print(nodes_status)"
   ]
  },
  {
   "cell_type": "code",
   "execution_count": 7,
   "metadata": {
    "scrolled": true
   },
   "outputs": [
    {
     "data": {
      "text/plain": [
       "['health status index                     uuid                   pri rep docs.count docs.deleted store.size pri.store.size',\n",
       " 'yellow open   .dsconfig_es6-4-2         jfP1gSBSQxq_pJ93_fTWWQ   1   1          1            0     10.3kb         10.3kb',\n",
       " 'green  open   esri-ds-metadata_es-6-4-2 -DAi720MS1qQc4Gm0Fl0vQ   5   0          0            0      1.2kb          1.2kb',\n",
       " 'green  open   esri-ds-oid_es-6-4-2      VmsDszBeQDeEhV7Vlno2bg   5   0          0            0      1.2kb          1.2kb',\n",
       " '']"
      ]
     },
     "execution_count": 7,
     "metadata": {},
     "output_type": "execute_result"
    }
   ],
   "source": [
    "es.cat.indices(v=True).split('\\n')"
   ]
  },
  {
   "cell_type": "code",
   "execution_count": 8,
   "metadata": {},
   "outputs": [],
   "source": [
    "result = es.cat.indices(v=True).split('\\n')\n",
    "header = result[0]\n",
    "health_index = header.split().index('health')\n",
    "index_index = header.split().index('index')"
   ]
  },
  {
   "cell_type": "code",
   "execution_count": 9,
   "metadata": {},
   "outputs": [
    {
     "name": "stdout",
     "output_type": "stream",
     "text": [
      "['.dsconfig_es6-4-2', 'esri-ds-metadata_es-6-4-2', 'esri-ds-oid_es-6-4-2']\n"
     ]
    }
   ],
   "source": [
    "index_list = list(map(lambda x: x.split()[index_index], result[1:-1]))\n",
    "print(index_list)"
   ]
  },
  {
   "cell_type": "markdown",
   "metadata": {},
   "source": [
    "#### Read/Write"
   ]
  },
  {
   "cell_type": "code",
   "execution_count": null,
   "metadata": {},
   "outputs": [],
   "source": [
    "mapping = {\n",
    "    'properties': {\n",
    "        'title': {\n",
    "            'type': 'text',\n",
    "            'analyzer': 'ik_max_word',\n",
    "            'search_analyzer': 'ik_max_word'\n",
    "        }\n",
    "    }\n",
    "}"
   ]
  },
  {
   "cell_type": "code",
   "execution_count": 10,
   "metadata": {
    "scrolled": true
   },
   "outputs": [
    {
     "data": {
      "text/plain": [
       "{'acknowledged': True, 'shards_acknowledged': True, 'index': 'news'}"
      ]
     },
     "execution_count": 10,
     "metadata": {},
     "output_type": "execute_result"
    }
   ],
   "source": [
    "es.indices.create(index='news', ignore=400)"
   ]
  },
  {
   "cell_type": "code",
   "execution_count": 11,
   "metadata": {},
   "outputs": [
    {
     "name": "stdout",
     "output_type": "stream",
     "text": [
      "{'error': {'root_cause': [{'type': 'resource_already_exists_exception', 'reason': 'index [news/Stpw7GpsS-u_Mrq3pg-4ug] already exists', 'index_uuid': 'Stpw7GpsS-u_Mrq3pg-4ug', 'index': 'news'}], 'type': 'resource_already_exists_exception', 'reason': 'index [news/Stpw7GpsS-u_Mrq3pg-4ug] already exists', 'index_uuid': 'Stpw7GpsS-u_Mrq3pg-4ug', 'index': 'news'}, 'status': 400}\n"
     ]
    }
   ],
   "source": [
    "result = es.indices.create(index='news', ignore=400)\n",
    "print(result)"
   ]
  },
  {
   "cell_type": "code",
   "execution_count": 12,
   "metadata": {
    "scrolled": true
   },
   "outputs": [
    {
     "data": {
      "text/plain": [
       "{'acknowledged': True}"
      ]
     },
     "execution_count": 12,
     "metadata": {},
     "output_type": "execute_result"
    }
   ],
   "source": [
    "es.indices.delete(index='news', ignore=[400, 404])"
   ]
  },
  {
   "cell_type": "code",
   "execution_count": 13,
   "metadata": {},
   "outputs": [
    {
     "name": "stdout",
     "output_type": "stream",
     "text": [
      "{'acknowledged': True, 'shards_acknowledged': True, 'index': 'movies_in_theaters'}\n"
     ]
    }
   ],
   "source": [
    "result = es.indices.create(index='movies_in_theaters', ignore=400)\n",
    "print(result)"
   ]
  },
  {
   "cell_type": "code",
   "execution_count": 14,
   "metadata": {},
   "outputs": [
    {
     "data": {
      "text/plain": [
       "['health status index                     uuid                   pri rep docs.count docs.deleted store.size pri.store.size',\n",
       " 'yellow open   .dsconfig_es6-4-2         jfP1gSBSQxq_pJ93_fTWWQ   1   1          1            0     10.3kb         10.3kb',\n",
       " 'yellow open   movies_in_theaters        wF1f-MZnSMGKV8eqsGC4_Q   5   1          0            0      1.1kb          1.1kb',\n",
       " 'green  open   esri-ds-metadata_es-6-4-2 -DAi720MS1qQc4Gm0Fl0vQ   5   0          0            0      1.2kb          1.2kb',\n",
       " 'green  open   esri-ds-oid_es-6-4-2      VmsDszBeQDeEhV7Vlno2bg   5   0          0            0      1.2kb          1.2kb',\n",
       " '']"
      ]
     },
     "execution_count": 14,
     "metadata": {},
     "output_type": "execute_result"
    }
   ],
   "source": [
    "es.cat.indices(v=True).split('\\n')"
   ]
  },
  {
   "cell_type": "code",
   "execution_count": 15,
   "metadata": {},
   "outputs": [],
   "source": [
    "url = 'https://api.douban.com/v2/movie/in_theaters?apikey=0b2bdeda43b5688921839c8ecb20399b&city=%E5%8C%97%E4%BA%AC&start=0&count=100&client=&udid='\n",
    "request = urllib.request.Request(url)\n",
    "response = urllib.request.urlopen(request).read().decode('utf-8')\n",
    "content = json.loads(response)\n",
    "movies = content['subjects']\n",
    "movies_data = []\n",
    "for item in movies:\n",
    "    data = {}\n",
    "    data['title'] = item['title']\n",
    "    data['original_title'] = item['original_title']\n",
    "    data['rating'] = item['rating']['average']\n",
    "    data['genres'] = item['genres']\n",
    "    data['pubdates'] = item['pubdates']\n",
    "    movies_data.append(data)\n",
    "    es.index(index='movies_in_theaters', doc_type='info', body=data)"
   ]
  },
  {
   "cell_type": "code",
   "execution_count": 16,
   "metadata": {
    "scrolled": true
   },
   "outputs": [
    {
     "data": {
      "text/plain": [
       "['health status index                     uuid                   pri rep docs.count docs.deleted store.size pri.store.size',\n",
       " 'yellow open   .dsconfig_es6-4-2         jfP1gSBSQxq_pJ93_fTWWQ   1   1          1            0     10.3kb         10.3kb',\n",
       " 'yellow open   movies_in_theaters        wF1f-MZnSMGKV8eqsGC4_Q   5   1         30            0       41kb           41kb',\n",
       " 'green  open   esri-ds-metadata_es-6-4-2 -DAi720MS1qQc4Gm0Fl0vQ   5   0          0            0      1.2kb          1.2kb',\n",
       " 'green  open   esri-ds-oid_es-6-4-2      VmsDszBeQDeEhV7Vlno2bg   5   0          0            0      1.2kb          1.2kb',\n",
       " '']"
      ]
     },
     "execution_count": 16,
     "metadata": {},
     "output_type": "execute_result"
    }
   ],
   "source": [
    "es.cat.indices(v=True).split('\\n')"
   ]
  },
  {
   "cell_type": "code",
   "execution_count": null,
   "metadata": {},
   "outputs": [],
   "source": [
    "result = es.search(index='movies_in_theaters', doc_type='info', ignore=404)\n",
    "print(json.dumps(result, indent=2, ensure_ascii=False))"
   ]
  },
  {
   "cell_type": "code",
   "execution_count": null,
   "metadata": {
    "scrolled": false
   },
   "outputs": [],
   "source": [
    "query = {\n",
    "    'query': {\n",
    "        'bool': {\n",
    "            'must': [\n",
    "                { 'match': { 'genres': '剧情' }},\n",
    "                { 'match': { 'pubdates': { 'query': '2018 2019 美国 中国大陆', 'operator': 'and' }}}\n",
    "            ]\n",
    "        }\n",
    "    }\n",
    "}\n",
    "result = es.search(index='movies_in_theaters', doc_type='info', body=query)\n",
    "print(json.dumps(result, indent=2, ensure_ascii=False))"
   ]
  },
  {
   "cell_type": "code",
   "execution_count": 19,
   "metadata": {},
   "outputs": [
    {
     "name": "stdout",
     "output_type": "stream",
     "text": [
      "{'acknowledged': True}\n"
     ]
    }
   ],
   "source": [
    "result = es.indices.delete(index='movies_in_theaters', ignore=400)\n",
    "print(result)"
   ]
  },
  {
   "cell_type": "code",
   "execution_count": 20,
   "metadata": {},
   "outputs": [
    {
     "data": {
      "text/plain": [
       "['health status index                     uuid                   pri rep docs.count docs.deleted store.size pri.store.size',\n",
       " 'yellow open   .dsconfig_es6-4-2         jfP1gSBSQxq_pJ93_fTWWQ   1   1          1            0     10.3kb         10.3kb',\n",
       " 'green  open   esri-ds-metadata_es-6-4-2 -DAi720MS1qQc4Gm0Fl0vQ   5   0          0            0      1.2kb          1.2kb',\n",
       " 'green  open   esri-ds-oid_es-6-4-2      VmsDszBeQDeEhV7Vlno2bg   5   0          0            0      1.2kb          1.2kb',\n",
       " '']"
      ]
     },
     "execution_count": 20,
     "metadata": {},
     "output_type": "execute_result"
    }
   ],
   "source": [
    "es.cat.indices(v=True).split('\\n')"
   ]
  },
  {
   "cell_type": "code",
   "execution_count": null,
   "metadata": {},
   "outputs": [],
   "source": []
  }
 ],
 "metadata": {
  "kernelspec": {
   "display_name": "Python 3",
   "language": "python",
   "name": "python3"
  },
  "language_info": {
   "codemirror_mode": {
    "name": "ipython",
    "version": 3
   },
   "file_extension": ".py",
   "mimetype": "text/x-python",
   "name": "python",
   "nbconvert_exporter": "python",
   "pygments_lexer": "ipython3",
   "version": "3.6.5"
  }
 },
 "nbformat": 4,
 "nbformat_minor": 2
}
